{
  "nbformat": 4,
  "nbformat_minor": 0,
  "metadata": {
    "colab": {
      "name": "BlockChain_Basic.ipynb",
      "provenance": [],
      "collapsed_sections": [],
      "authorship_tag": "ABX9TyNpwdtLngbgiBf8NNyEZJvW",
      "include_colab_link": true
    },
    "kernelspec": {
      "name": "python3",
      "display_name": "Python 3"
    },
    "language_info": {
      "name": "python"
    }
  },
  "cells": [
    {
      "cell_type": "markdown",
      "metadata": {
        "id": "view-in-github",
        "colab_type": "text"
      },
      "source": [
        "<a href=\"https://colab.research.google.com/github/thomas0913/BlockChain_BasicCase/blob/main/BlockChain_Basic.ipynb\" target=\"_parent\"><img src=\"https://colab.research.google.com/assets/colab-badge.svg\" alt=\"Open In Colab\"/></a>"
      ]
    },
    {
      "cell_type": "markdown",
      "source": [
        "# 定義區塊鏈格式與架構"
      ],
      "metadata": {
        "id": "4CINohN9AFIb"
      }
    },
    {
      "cell_type": "markdown",
      "source": [
        "*   交易格式"
      ],
      "metadata": {
        "id": "1XVwx8qL-4mn"
      }
    },
    {
      "cell_type": "code",
      "execution_count": null,
      "metadata": {
        "id": "Sbs2kVx25vLm"
      },
      "outputs": [],
      "source": [
        "class Transaction:\n",
        "  def __init__(self,sender,receiver,amounts,fee,message):\n",
        "    self.sender = sender\n",
        "    self.receiver = receiver\n",
        "    self.amounts = amounts\n",
        "    self.fee = fee\n",
        "    self.message = message"
      ]
    },
    {
      "cell_type": "markdown",
      "source": [
        "*   區塊格式\n",
        "\n"
      ],
      "metadata": {
        "id": "8JLpMljgAVwZ"
      }
    },
    {
      "cell_type": "code",
      "source": [
        ""
      ],
      "metadata": {
        "id": "48KtPYXyAkJb"
      },
      "execution_count": null,
      "outputs": []
    }
  ]
}