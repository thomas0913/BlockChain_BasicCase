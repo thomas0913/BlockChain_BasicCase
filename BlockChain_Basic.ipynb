{
  "nbformat": 4,
  "nbformat_minor": 0,
  "metadata": {
    "colab": {
      "name": "BlockChain_Basic.ipynb",
      "provenance": [],
      "collapsed_sections": [],
      "authorship_tag": "ABX9TyMB/XsxdsSiOQRilyvVsFgL",
      "include_colab_link": true
    },
    "kernelspec": {
      "name": "python3",
      "display_name": "Python 3"
    },
    "language_info": {
      "name": "python"
    }
  },
  "cells": [
    {
      "cell_type": "markdown",
      "metadata": {
        "id": "view-in-github",
        "colab_type": "text"
      },
      "source": [
        "<a href=\"https://colab.research.google.com/github/thomas0913/BlockChain_BasicCase/blob/main/BlockChain_Basic.ipynb\" target=\"_parent\"><img src=\"https://colab.research.google.com/assets/colab-badge.svg\" alt=\"Open In Colab\"/></a>"
      ]
    },
    {
      "cell_type": "markdown",
      "source": [
        "#定義區塊鏈格式與架構\n",
        "###之中包含了區塊鏈必要的定義元素"
      ],
      "metadata": {
        "id": "4CINohN9AFIb"
      }
    },
    {
      "cell_type": "markdown",
      "source": [
        "*   交易格式"
      ],
      "metadata": {
        "id": "1XVwx8qL-4mn"
      }
    },
    {
      "cell_type": "code",
      "execution_count": null,
      "metadata": {
        "id": "Sbs2kVx25vLm"
      },
      "outputs": [],
      "source": [
        "#交易定義\n",
        "class Transaction:\n",
        "  def __init__(self,sender,receiver,amounts,fee,message): \n",
        "    self.sender = sender    #發送者，同時check帳戶餘額是否足夠\n",
        "    self.receiver = receiver  #接收者，通常直接收款\n",
        "    self.amounts = amounts   #金額數\n",
        "    self.fee = fee       #手續費\n",
        "    self.message = message   #註記，generally for receiver"
      ]
    },
    {
      "cell_type": "markdown",
      "source": [
        "*   區塊格式\n",
        "\n"
      ],
      "metadata": {
        "id": "8JLpMljgAVwZ"
      }
    },
    {
      "cell_type": "code",
      "source": [
        "import time\n",
        "\n",
        "#區塊定義\n",
        "class Block:\n",
        "  def __init__(self,previous_hash,difficulty,miner,miner_rewards):\n",
        "    self.previous_hash = previous_hash  #前一區塊之雜湊值，為了加密\n",
        "    self.hash = ''            #當前區塊雜湊值，目前區塊計算後之雜湊值\n",
        "    self.difficulty = difficulty     #當前難度\n",
        "    self.nonce = 0            #能解開上個區塊鎖的鑰匙\n",
        "    self.timestamp = int(time.time())   #區塊產生時之時間戳，調整挖礦難度時會用到\n",
        "    self.transactions = []        #交易紀錄(for all)\n",
        "    self.miner = miner          #挖掘礦工(誰挖的)\n",
        "    self.miner_rewards = miner_rewards  #礦工獎勵，區塊產出時分給礦工的獎勵"
      ],
      "metadata": {
        "id": "48KtPYXyAkJb"
      },
      "execution_count": null,
      "outputs": []
    },
    {
      "cell_type": "markdown",
      "source": [
        "\n",
        "*   區塊鏈架構\n",
        "\n",
        "\n",
        "\n"
      ],
      "metadata": {
        "id": "KYA0-BbLYrXh"
      }
    },
    {
      "cell_type": "code",
      "source": [
        "#區塊鏈定義\n",
        "class BlockChain:\n",
        "  def __init__(self):\n",
        "    self.adjust_difficulty_blocks = 10 #難度調節區塊數，每多少區塊調節一次\n",
        "    self.difficulty = 1        #當前難度\n",
        "    self.block_time = 30        #出塊時間，理想上多久能夠產出一個區塊\n",
        "    self.mining_rewards = 10      #挖礦獎勵，獎勵挖礦者的金額多寡\n",
        "    self.block_limitation = 32     #區塊容量，每一區塊能夠容納的交易上限\n",
        "    self.chain = []           #區塊鏈，目前鏈中儲存的所有區塊\n",
        "    self.pending_transactions = []   #等待中的交易(因區塊鏈能吞吐的交易量有限)"
      ],
      "metadata": {
        "id": "RTWQoDvrYxT5"
      },
      "execution_count": null,
      "outputs": []
    },
    {
      "cell_type": "markdown",
      "source": [
        "#產生創世塊&挖掘新區塊\n",
        "###1.   產生雜湊值(HASH)\n",
        "###2.   產生創世塊\n",
        "###3.   放置交易明細至新區塊中\n",
        "###4.   挖掘新區塊\n",
        "\n"
      ],
      "metadata": {
        "id": "cU-PXd8j9Cbu"
      }
    },
    {
      "cell_type": "markdown",
      "source": [
        "* 產生雜湊值(HASH)"
      ],
      "metadata": {
        "id": "t3gDRJg-9sbs"
      }
    },
    {
      "cell_type": "code",
      "source": [
        "import hashlib\n",
        "\n",
        "class BlockChain:\n",
        "  #負責把交易明細轉換成字串\n",
        "  def transaction_to_string(self, transaction):\n",
        "    transaction_dict = {\n",
        "        'sender': str(transaction.sender),\n",
        "        'receiver': str(transaction.receiver),\n",
        "        'amounts': transaction.amounts,\n",
        "        'fee': transaction.fee,\n",
        "        'message': transaction.message\n",
        "    }\n",
        "    return str(transaction_dict)\n",
        "\n",
        "  #負責把區塊記錄內的所有交易明細轉換成一個字串\n",
        "  def get_transactions_string(self, block):\n",
        "    transaction_str = ''\n",
        "    for transaction in block.transactions:\n",
        "      transaction_str += self.transaction_to_string(transaction)\n",
        "    return transaction_str\n",
        "\n",
        "  #負責依據這四筆資料產生相對應的雜湊值\n",
        "  def get_hash(self, block, nonce):\n",
        "    s = hashlib.sha1()\n",
        "    s.update(\n",
        "      (\n",
        "         block.previous_hash           #前一區塊之雜湊值\n",
        "         + str(block.timestamp)         #區塊產生當下的時間戳\n",
        "         + self.get_transactions_string(block)  #區塊內所有之交易明細\n",
        "         + str(nonce)              #挖掘中的nonce值\n",
        "      ).encode(\"utf-8\")\n",
        "    )\n",
        "    h = s.hexdigest()\n",
        "    return h"
      ],
      "metadata": {
        "id": "Q2iiB4Oj9k0t"
      },
      "execution_count": null,
      "outputs": []
    },
    {
      "cell_type": "markdown",
      "source": [
        "* 產生創世塊"
      ],
      "metadata": {
        "id": "cnPN9s1b92Y6"
      }
    },
    {
      "cell_type": "code",
      "source": [
        "class BlockChain:\n",
        "  #開始部屬區塊鏈所產生之第一個區塊，無任何交易紀錄且為無任何資料的空區塊\n",
        "  def create_genesis_block(self):\n",
        "    print(\"Create genesis block...\")\n",
        "\n",
        "    #定義創世塊 = Block(前一區塊雜湊值,預設難度,礦工姓名,預設挖礦獎勵)\n",
        "    new_block = Block('Hello World!', self.difficulty, 'lkm543', self.miner_rewards)\n",
        "    new_block.hash = self.get_hash(new_block, 0) #產生創世塊當前雜湊值\n",
        "    self.chain.append(new_block) #將創世塊加入鏈中"
      ],
      "metadata": {
        "id": "C27X5UgK97Gj"
      },
      "execution_count": null,
      "outputs": []
    },
    {
      "cell_type": "markdown",
      "source": [
        "* 放置交易明細至新區塊中"
      ],
      "metadata": {
        "id": "cArHixX699HT"
      }
    },
    {
      "cell_type": "code",
      "source": [
        "class BlockChain:\n",
        "  #交易明細加入新區塊中\n",
        "  def add_transaction_to_block(self, block):\n",
        "    #Get the transaction with highest fee by block_limitation\n",
        "  \n",
        "    #將等待中的所有交易明細一手續費大小排序，並反序陣列使第一個元素為手續費最高之交易明細\n",
        "    self.pending_transactions.sort(key=lambda x: x.fee, reverse=True)\n",
        "  \n",
        "    #檢查等待中交易明細數量是否超載區塊容量\n",
        "    if len(self.pending_transactions) > self.block_limitation:\n",
        "      transaction_accepted = self.pending_transactions[:self.block_limitation] \n",
        "      self.pending_transactions = self.pending_transactions[self.block_limitation:] #留下不被接受的交易明細在等待區\n",
        "    else:\n",
        "      transaction_accepted = self.pending_transactions #接受全部等待中的交易明細\n",
        "      self.pending_transactions = [] #重至等待區\n",
        "\n",
        "    #放入區塊中\n",
        "    block.transactions = transaction_accepted"
      ],
      "metadata": {
        "id": "x2K_-kr1-B6S"
      },
      "execution_count": null,
      "outputs": []
    },
    {
      "cell_type": "markdown",
      "source": [
        "* 挖掘新區塊"
      ],
      "metadata": {
        "id": "u6H2Ouhq-Cbc"
      }
    },
    {
      "cell_type": "code",
      "source": [
        "class BlockChain:\n",
        "  #利用\"POW(工作量證明)\"挖掘新區塊\n",
        "  def mine_block(self, miner):\n",
        "    start = time.process_time() #紀錄挖掘前時間\n",
        "\n",
        "    #產生新區塊\n",
        "    last_block = self.chain[-1] #選取鏈中最後一區塊\n",
        "    new_block = Block(last_block.hash, self.difficulty, miner, self.miner_rewards) #設定新區塊參數\n",
        "    self.add_transaction_to_block(new_block) #加入交易明細至新區塊\n",
        "    new_block.previous_hash = last_block.hash\n",
        "    new_block.difficulty = self.difficulty\n",
        "    new_block.hash = self.get_hash(new_block, new_block.nonce) #產生加入交易明細後的新雜湊值\n",
        "\n",
        "    #透過改變nonce值得到新雜湊值，如符合難度定義\"開頭有幾個0\"則為合格的雜湊值與nonce值\n",
        "    while new_block.hash[0: self.difficulty] != '0' * self.difficulty:\n",
        "      new_block.nonce += 1\n",
        "      new_block.hash = self.get_hash(new_block, new_block.nonce)\n",
        "    \n",
        "    #計算並得出區塊挖掘時間花費\n",
        "    time_consumed = round(time.process_time() - start, 5)\n",
        "    print(f\"Hash found: {new_block.hash} @ difficulty {self.difficulty}, time cost: {time_consumed}s\") #顯示新區塊狀態提示\n",
        "\n",
        "    #將所挖掘的新區塊加入鏈中\n",
        "    self.chain.append(new_block)"
      ],
      "metadata": {
        "id": "_TeKdtIW-Fbs"
      },
      "execution_count": null,
      "outputs": []
    },
    {
      "cell_type": "markdown",
      "source": [
        "# 難度調整&確認雜湊值  \n",
        "###1.   調整挖掘難度\n",
        "###2.   計算帳戶餘額\n",
        "###3.   確認雜湊值是否正確\n"
      ],
      "metadata": {
        "id": "Rou1hmW6iTUn"
      }
    },
    {
      "cell_type": "markdown",
      "source": [
        "*   調整挖掘難度\n",
        "\n"
      ],
      "metadata": {
        "id": "hjysMxTSkAjR"
      }
    },
    {
      "cell_type": "code",
      "source": [
        "class BlockChain:\n",
        "  #難度調節算法，不是最佳解\n",
        "  def adjust_difficulty(self):\n",
        "    if  len(self.chain) % self.adjust_difficulty_blocks != 1:\n",
        "      return self.difficulty\n",
        "    elif len(self.chain) <= self.adjust_difficulty_blocks:\n",
        "      return self.difficulty\n",
        "    else: #調整，如果當前區塊數\"到達且超過\"上限調節區塊數\n",
        "      #計算平均出塊時間\n",
        "      start = self.chain[-1*self.adjust_difficulty_blocks-1].timestamp\n",
        "      finish = self.chain[-1].timestamp\n",
        "      average_time_consumed = round((finish - start) / (self.adjust_difficulty_blocks), 2)\n",
        "\n",
        "      if average_time_consumed > self.block_time:\n",
        "        print(f\"Average block time:{average_time_consumed}s. Lower the difficulty\")\n",
        "        self.difficulty -= 1\n",
        "      else:\n",
        "        print(f\"Average block time:{average_time_consumed}s. High up the difficulty\")\n",
        "        self.difficulty += 1\n",
        "        "
      ],
      "metadata": {
        "id": "IMB9r46finsT"
      },
      "execution_count": null,
      "outputs": []
    },
    {
      "cell_type": "markdown",
      "source": [
        "* **計算帳戶餘額**  \n",
        ">* 帳戶餘額來源 :\n",
        "   1.   區塊獎勵\n",
        "   2.   手續費\n",
        "   3.   匯款收入"
      ],
      "metadata": {
        "id": "iCbgW9IdkW96"
      }
    },
    {
      "cell_type": "code",
      "source": [
        "class BlockChain:\n",
        "  #查詢帳戶餘額，遍歷所有交易紀錄之明細\n",
        "  def get_balance(self, account):\n",
        "    balance = 0;\n",
        "    for block in self.chain: #遍歷所有區塊\n",
        "      #Check miner rewaard\n",
        "      miner = False #礦工旗標\n",
        "      if block.miner == account: #檢查該帳戶是否為礦工\n",
        "        miner = True\n",
        "        balance += block.miner_rewards\n",
        "      for transaction in block.transactions: #遍歷該區塊的所有交易明細紀錄\n",
        "        if miner: #如為礦工則獲得該明細之手續費\n",
        "          balance += transaction.fee\n",
        "        if transaction.sender == account: #如為發送者則從餘額扣除該次轉帳金額與手續費\n",
        "          balance -= transaction.amounts\n",
        "          balance -= transaction.fee\n",
        "        elif transaction.receiver == account: #如為接收者直接獲取金額加至帳戶餘額之中\n",
        "          balance += transaction.amounts\n",
        "    return balance\n"
      ],
      "metadata": {
        "id": "N2JZs_-_kq-l"
      },
      "execution_count": null,
      "outputs": []
    },
    {
      "cell_type": "markdown",
      "source": [
        "* **確認雜湊值是否正確**  \n",
        "> 雜湊值算法來源 :\n",
        "  1.  前一區塊之hash(previous_hash)\n",
        "  2.  區塊產生之時間戳\n",
        "  3.  所有之交易紀錄\n",
        "  4.  nonce值"
      ],
      "metadata": {
        "id": "dYwTu_CMkl41"
      }
    },
    {
      "cell_type": "code",
      "source": [
        "class BlockChain:\n",
        "  #檢驗當前區塊鏈正確性，從第一塊到最後一塊依序計算雜湊值\n",
        "  def verify_blockchain(self):\n",
        "    previous_hash = ''\n",
        "    \n",
        "    #把所有交易紀錄列舉成一單一陣列，並遍歷各個區塊與索引值\n",
        "    for idx,block in enumerate(self.chain):\n",
        "      if self.get_hash(block, block.nonce) != block.hash: #驗證當前區塊雜湊值\n",
        "        print(\"Error:Hash not matched!\")\n",
        "        return False\n",
        "      elif previous_hash != block.previous_hash and idx: #驗證當前區塊位置\n",
        "        print(\"Error:Hash not matched to previos_hash\")\n",
        "        return False\n",
        "      previous_hash = block.hash\n",
        "    print(\"Hash correct!\")\n",
        "    return True\n"
      ],
      "metadata": {
        "id": "0JxwKqFkksH_"
      },
      "execution_count": null,
      "outputs": []
    },
    {
      "cell_type": "markdown",
      "source": [
        "#公、私鑰&簽章\n",
        "1.  利用非對稱加密中的RSA加密產生公、私鑰與地址\n",
        "2.  利用產生的公私鑰簽署交易後發送\n",
        "3.  試著跑起整條鏈並發起交易"
      ],
      "metadata": {
        "id": "UFlHqrdk95GY"
      }
    },
    {
      "cell_type": "markdown",
      "source": [
        "* 利用RSA加密產生公、私鑰與地址"
      ],
      "metadata": {
        "id": "cbkDS8LS_AFA"
      }
    },
    {
      "cell_type": "code",
      "source": [
        "import rsa\n",
        "\n",
        "class BlockChain:\n",
        "  #利用RSA加密法隨機產生一對公私鑰，並轉存成pkcs1形式\n",
        "  def generate_address(self):\n",
        "    public,private = rsa.newkeys(512)\n",
        "    public_key = public.save_pkcs1()\n",
        "    private_key = private.save_pkcs1()\n",
        "    return self.get_address_from_public(public_key),private_key\n",
        "  \n",
        "  #把public_key(pkcs1)原本內容過濾並只剩地址部分\n",
        "  def get_address_from_public(self, public):\n",
        "    address = str(public).replace('\\\\n', '')\n",
        "    address = address.replace(\"b'-----BEGIN RSA PUBLIC KEY-----\", '')\n",
        "    address = address.replace(\"-----END RSA PUBLIC KEY-----'\", '')\n",
        "    address = address.replace(' ', '')\n",
        "    print('Address:', address)\n",
        "    return address\n",
        "  \"\"\"\n",
        "  b'-----BEGIN RSA PUBLIC KEY-----\\n\n",
        "  MEgCQQCC+FnLB6c50HqIU1+xHmVr2ynahARbCc3/eRFLYSDeWKbVfvpMLnrKqm/\n",
        "  qlmOy3QXjjr15ZNSQMO+Cnn0JvnohAgMBAAE=\\n\n",
        "  -----END RSA PUBLIC KEY-----\\n\n",
        "  \"\"\"\n",
        "\n",
        "  #利用\"數位簽章\"接納此筆交易\n",
        "  def add_transaction(self, transaction, signature):\n",
        "    public_key = '-----BEGIN RSA PUBLIC KEY-----\\n'\n",
        "    public_key += transaction.sender\n",
        "    public_key += '\\n-----END RSA PUBLIC KEY-----\\n'\n",
        "    public_key_pkcs = rsa.PublicKey.load_pkcs1(public_key.encode('utf-8'))\n",
        "    transaction_str = self.transaction_to_string(transaction)\n",
        "    if transaction.fee + transaction.amounts > self.get_balance(transaction.sender): #如交易金額大於當前帳戶餘額則交易失敗\n",
        "      print(\"Balance not enough!\")\n",
        "      return False\n",
        "    try:\n",
        "      #驗證發送者\n",
        "      rsa.verify(transaction_str.encode('utf-8'), signature, public_key_pkcs)\n",
        "      print(\"Authorized successfully!\")\n",
        "      self.pending_transactions.append(transaction)\n",
        "      return True\n",
        "    except Exception:\n",
        "      print(\"RSA Verified wrong!\")\n"
      ],
      "metadata": {
        "id": "7Yznnp6R-_iv"
      },
      "execution_count": null,
      "outputs": []
    },
    {
      "cell_type": "markdown",
      "source": [
        "* 利用產生後的公私鑰簽章後發送交易"
      ],
      "metadata": {
        "id": "4nn9Vlxk_N4r"
      }
    },
    {
      "cell_type": "code",
      "source": [
        "class BlockChain:\n",
        "  #(在本地端)初始化一筆交易，並且確認帳戶是否餘額足夠\n",
        "  def initialize_transaction(self, sender, receiver, amount, fee, message):\n",
        "    if self.get_balance(sender) < amount + fee: #檢查餘額\n",
        "      print(\"Balance not enough!\")\n",
        "      return False\n",
        "    new_transaction = Transaction(sender, receiver, amount, fee, message)\n",
        "    return new_transaction\n",
        "\n",
        "  #(在本地端)簽署數位簽章\n",
        "  def sign_transaction(self, transaction, private_key):\n",
        "    private_key_pkcs = rsa.PrivateKey.load_pkcs1(private_key)\n",
        "    transaction_str = self.transaction_to_string(transaction)\n",
        "    signature = rsa.sign(transaction_str.encode('utf-8'), private_key_pkcs, 'SHA-1') #簽章\n",
        "    return signature\n",
        "  "
      ],
      "metadata": {
        "id": "xMg7-xuk_XsQ"
      },
      "execution_count": null,
      "outputs": []
    },
    {
      "cell_type": "markdown",
      "source": [
        "* 試著跑起整個鏈並發起交易"
      ],
      "metadata": {
        "id": "2CkVJatj_Yvv"
      }
    },
    {
      "cell_type": "code",
      "source": [
        "class BlockChain:\n",
        "  def start(self):\n",
        "    address,private = self.generate_address()\n",
        "    self.create_genesis_block()\n",
        "    while(True):\n",
        "      #Step1: initialize a transaction\n",
        "      transaction = block.initialize_transaction(address, 'test123', 100, 1, 'Test')\n",
        "      if transaction:\n",
        "        #Step2: Sign your transaction\n",
        "        signature = block.sign_transaction(transaction, private)\n",
        "        #Step3: Send it to blockchain\n",
        "        block.add_transaction(transaction, signature)\n",
        "      self.mine_block(address)\n",
        "      print(self.get_balance(address))\n",
        "      self.adjust_difficulty()\n",
        "      "
      ],
      "metadata": {
        "id": "JAz7jaAN_ZZj"
      },
      "execution_count": null,
      "outputs": []
    },
    {
      "cell_type": "markdown",
      "source": [
        "* 測試"
      ],
      "metadata": {
        "id": "0c2_RUrtz2G5"
      }
    },
    {
      "cell_type": "code",
      "source": [
        "if __name__ == '__main__':\n",
        "  block = BlockChain() #產生區塊鏈並初始化\n",
        "  #block.start()\n",
        "  address,private = block.generate_address()\n",
        "\n",
        "  block.create_genesis_block() #產生創世塊\n",
        "  block.mine_block(address) #挖掘新區塊\n",
        "\n",
        "  #Step1: initialize a transaction\n",
        "  transaction = block.initialize_transaction(address, 'test123', 100, 1, 'Test')\n",
        "  if transaction:\n",
        "    #Step2: Sign your transaction\n",
        "    signature = block.sign_transaction(transaction, private)\n",
        "    #Step3: Send it to blockchain\n",
        "    block.add_transaction(transaction, signature)\n",
        "  block.mine_block(address)\n",
        "\n",
        "  block.verify_blockchain() #檢驗hash\n",
        "\n",
        "  print(\"Insert fake transaction.\")\n",
        "  fake_transaction = Transaction('test123', address, 100, 1, 'Test')\n",
        "  block.chain[1].transactions.append(fake_transaction)\n",
        "  block.mine_block('lkm543')\n",
        "\n",
        "  block.verify_blockchain()"
      ],
      "metadata": {
        "id": "o79ltEmSz9S6",
        "outputId": "a0fe0e0f-37c2-4cd9-9af2-3e5311de0751",
        "colab": {
          "base_uri": "https://localhost:8080/",
          "height": 237
        }
      },
      "execution_count": null,
      "outputs": [
        {
          "output_type": "error",
          "ename": "AttributeError",
          "evalue": "ignored",
          "traceback": [
            "\u001b[0;31m---------------------------------------------------------------------------\u001b[0m",
            "\u001b[0;31mAttributeError\u001b[0m                            Traceback (most recent call last)",
            "\u001b[0;32m<ipython-input-11-fad4063666a8>\u001b[0m in \u001b[0;36m<module>\u001b[0;34m()\u001b[0m\n\u001b[1;32m      1\u001b[0m \u001b[0;32mif\u001b[0m \u001b[0m__name__\u001b[0m \u001b[0;34m==\u001b[0m \u001b[0;34m'__main__'\u001b[0m\u001b[0;34m:\u001b[0m\u001b[0;34m\u001b[0m\u001b[0;34m\u001b[0m\u001b[0m\n\u001b[1;32m      2\u001b[0m   \u001b[0mblock\u001b[0m \u001b[0;34m=\u001b[0m \u001b[0mBlockChain\u001b[0m\u001b[0;34m(\u001b[0m\u001b[0;34m)\u001b[0m \u001b[0;31m#產生區塊鏈並初始化\u001b[0m\u001b[0;34m\u001b[0m\u001b[0;34m\u001b[0m\u001b[0m\n\u001b[0;32m----> 3\u001b[0;31m   \u001b[0mblock\u001b[0m\u001b[0;34m.\u001b[0m\u001b[0mcreate_genesis_block\u001b[0m\u001b[0;34m(\u001b[0m\u001b[0;34m)\u001b[0m \u001b[0;31m#產生創世塊\u001b[0m\u001b[0;34m\u001b[0m\u001b[0;34m\u001b[0m\u001b[0m\n\u001b[0m\u001b[1;32m      4\u001b[0m   \u001b[0mblock\u001b[0m\u001b[0;34m.\u001b[0m\u001b[0mmine_block\u001b[0m\u001b[0;34m(\u001b[0m\u001b[0;34m'lkm543'\u001b[0m\u001b[0;34m)\u001b[0m \u001b[0;31m#挖掘新區塊\u001b[0m\u001b[0;34m\u001b[0m\u001b[0;34m\u001b[0m\u001b[0m\n\u001b[1;32m      5\u001b[0m \u001b[0;34m\u001b[0m\u001b[0m\n",
            "\u001b[0;31mAttributeError\u001b[0m: 'BlockChain' object has no attribute 'create_genesis_block'"
          ]
        }
      ]
    }
  ]
}