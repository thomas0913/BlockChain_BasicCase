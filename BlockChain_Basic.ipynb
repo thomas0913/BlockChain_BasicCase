{
  "nbformat": 4,
  "nbformat_minor": 0,
  "metadata": {
    "colab": {
      "name": "BlockChain_Basic.ipynb",
      "provenance": [],
      "collapsed_sections": [],
      "authorship_tag": "ABX9TyOM+sjf63l48SGF0oLbZaoK",
      "include_colab_link": true
    },
    "kernelspec": {
      "name": "python3",
      "display_name": "Python 3"
    },
    "language_info": {
      "name": "python"
    }
  },
  "cells": [
    {
      "cell_type": "markdown",
      "metadata": {
        "id": "view-in-github",
        "colab_type": "text"
      },
      "source": [
        "<a href=\"https://colab.research.google.com/github/thomas0913/BlockChain_BasicCase/blob/main/BlockChain_Basic.ipynb\" target=\"_parent\"><img src=\"https://colab.research.google.com/assets/colab-badge.svg\" alt=\"Open In Colab\"/></a>"
      ]
    },
    {
      "cell_type": "markdown",
      "source": [
        "#定義區塊鏈格式與架構\n",
        "###之中包含了區塊鏈必要的定義元素"
      ],
      "metadata": {
        "id": "4CINohN9AFIb"
      }
    },
    {
      "cell_type": "markdown",
      "source": [
        "*   交易格式"
      ],
      "metadata": {
        "id": "1XVwx8qL-4mn"
      }
    },
    {
      "cell_type": "code",
      "execution_count": 24,
      "metadata": {
        "id": "Sbs2kVx25vLm"
      },
      "outputs": [],
      "source": [
        "#交易定義\n",
        "class Transaction:\n",
        "  def __init__(self,sender,receiver,amounts,fee,message): \n",
        "    self.sender = sender    #發送者，同時check帳戶餘額是否足夠\n",
        "    self.receiver = receiver  #接收者，通常直接收款\n",
        "    self.amounts = amounts   #金額數\n",
        "    self.fee = fee       #手續費\n",
        "    self.message = message   #註記，generally for receiver"
      ]
    },
    {
      "cell_type": "markdown",
      "source": [
        "*   區塊格式\n",
        "\n"
      ],
      "metadata": {
        "id": "8JLpMljgAVwZ"
      }
    },
    {
      "cell_type": "code",
      "source": [
        "#區塊定義\n",
        "class Block:\n",
        "  def __init__(self,previous_hash,difficulty,miner,miner_rewards):\n",
        "    self.previous_hash = previous_hash  #前一區塊之雜湊值，為了加密\n",
        "    self.hash = ''            #當前區塊雜湊值，目前區塊計算後之雜湊值\n",
        "    self.difficulty = difficulty     #當前難度\n",
        "    self.nonce = 0            #能解開上個區塊鎖的鑰匙\n",
        "    self.timestamp = int(time.time())   #區塊產生時之時間戳，調整挖礦難度時會用到\n",
        "    self.transactions = []        #交易紀錄(for all)\n",
        "    self.miner = miner          #挖掘礦工(誰挖的)\n",
        "    self.miner_rewards = miner_rewards  #礦工獎勵，區塊產出時分給礦工的獎勵"
      ],
      "metadata": {
        "id": "48KtPYXyAkJb"
      },
      "execution_count": 25,
      "outputs": []
    },
    {
      "cell_type": "markdown",
      "source": [
        "\n",
        "*   區塊鏈架構\n",
        "\n",
        "\n",
        "\n"
      ],
      "metadata": {
        "id": "KYA0-BbLYrXh"
      }
    },
    {
      "cell_type": "code",
      "source": [
        "#區塊鏈定義\n",
        "class BlockChain:\n",
        "  def __init__(self):\n",
        "    self.adjust_difficulty_blocks = 10 #難度調節區塊數，每多少區塊調節一次\n",
        "    self.difficulty = 1        #當前難度\n",
        "    self.block_time = 30        #出塊時間，理想上多久能夠產出一個區塊\n",
        "    self.mining_rewards = 10      #挖礦獎勵，獎勵挖礦者的金額多寡\n",
        "    self.block_limitation = 32     #區塊容量，每一區塊能夠容納的交易上限\n",
        "    self.chain = []           #區塊鏈，目前鏈中儲存的所有區塊\n",
        "    self.pending_transactions = []   #等待中的交易(因區塊鏈能吞吐的交易量有限)"
      ],
      "metadata": {
        "id": "RTWQoDvrYxT5"
      },
      "execution_count": 26,
      "outputs": []
    },
    {
      "cell_type": "markdown",
      "source": [
        "#產生創世塊&挖掘新區塊\n",
        "###1.   產生雜湊值(HASH)\n",
        "###2.   產生創世塊\n",
        "###3.   放置交易明細至新區塊中\n",
        "###4.   挖掘新區塊\n",
        "\n"
      ],
      "metadata": {
        "id": "cU-PXd8j9Cbu"
      }
    },
    {
      "cell_type": "markdown",
      "source": [
        "* 產生雜湊值(HASH)"
      ],
      "metadata": {
        "id": "t3gDRJg-9sbs"
      }
    },
    {
      "cell_type": "code",
      "source": [
        "import hashlib\n",
        "\n",
        "class BlockChain:\n",
        "  #負責把交易明細轉換成字串\n",
        "  def transaction_to_string(self, transaction):\n",
        "    transaction_dict = {\n",
        "        'sender': str(transaction.sender),\n",
        "        'receiver': str(transaction.receiver),\n",
        "        'amounts': transaction.amounts,\n",
        "        'fee': transaction.fee,\n",
        "        'message': transaction.message\n",
        "    }\n",
        "    return str(transaction_dict)\n",
        "\n",
        "  #負責把區塊記錄內的所有交易明細轉換成一個字串\n",
        "  def get_transactions_string(self, block):\n",
        "    transaction_str = ''\n",
        "    for transaction in block.transactions:\n",
        "      transaction_str += self.transaction_to_string(transaction)\n",
        "    return transaction_str\n",
        "\n",
        "  #負責依據這四筆資料產生相對應的雜湊值\n",
        "  def get_hash(self, block, nonce):\n",
        "    s = hashlib.sha1()\n",
        "    s.update(\n",
        "      (\n",
        "         block.previous_hash           #前一區塊之雜湊值\n",
        "         + str(block.timestamp)         #區塊產生當下的時間戳\n",
        "         + self.get_transactions_string(block)  #區塊內所有之交易明細\n",
        "         + str(nonce)              #挖掘中的nonce值\n",
        "      ).encode(\"utf-8\")\n",
        "    )\n",
        "    h = s.hexdigest()\n",
        "    return h"
      ],
      "metadata": {
        "id": "Q2iiB4Oj9k0t"
      },
      "execution_count": 27,
      "outputs": []
    },
    {
      "cell_type": "markdown",
      "source": [
        "* 產生創世塊"
      ],
      "metadata": {
        "id": "cnPN9s1b92Y6"
      }
    },
    {
      "cell_type": "code",
      "source": [
        "class BlockChain:\n",
        "  #開始部屬區塊鏈所產生之第一個區塊，無任何交易紀錄且為無任何資料的空區塊\n",
        "  def create_genesis_block(self):\n",
        "    print(\"Create genesis block...\")\n",
        "\n",
        "    #定義創世塊 = Block(前一區塊雜湊值,預設難度,礦工姓名,預設挖礦獎勵)\n",
        "    new_block = Block('Hello World!', self.difficulty, 'lkm543', self.miner_rewards)\n",
        "    new_block.hash = self.get_hash(new_block, 0) #產生創世塊當前雜湊值\n",
        "    self.chain.append(new_block) #將創世塊加入鏈中"
      ],
      "metadata": {
        "id": "C27X5UgK97Gj"
      },
      "execution_count": 28,
      "outputs": []
    },
    {
      "cell_type": "markdown",
      "source": [
        "* 放置交易明細至新區塊中"
      ],
      "metadata": {
        "id": "cArHixX699HT"
      }
    },
    {
      "cell_type": "code",
      "source": [
        "class BlockChain:\n",
        "  #交易明細加入新區塊中\n",
        "  def add_transaction_to_block(self, block):\n",
        "    #Get the transaction with highest fee by block_limitation\n",
        "  \n",
        "    #將等待中的所有交易明細一手續費大小排序，並反序陣列使第一個元素為手續費最高之交易明細\n",
        "    self.pending_transactions.sort(key=lambda x: x.fee, reverse=True)\n",
        "  \n",
        "    #檢查等待中交易明細數量是否超載區塊容量\n",
        "    if len(self.pending_transactions) > self.block_limitation:\n",
        "      transaction_accepted = self.pending_transactions[:self.block_limitation] \n",
        "      self.pending_transactions = self.pending_transactions[self.block_limitation:] #留下不被接受的交易明細在等待區\n",
        "    else:\n",
        "      transaction_accepted = self.pending_transactions #接受全部等待中的交易明細\n",
        "      self.pending_transactions = [] #重至等待區\n",
        "\n",
        "    #放入區塊中\n",
        "    block.transactions = transaction_accepted"
      ],
      "metadata": {
        "id": "x2K_-kr1-B6S"
      },
      "execution_count": 29,
      "outputs": []
    },
    {
      "cell_type": "markdown",
      "source": [
        "* 挖掘新區塊"
      ],
      "metadata": {
        "id": "u6H2Ouhq-Cbc"
      }
    },
    {
      "cell_type": "code",
      "source": [
        "class BlockChain:\n",
        "  #利用\"工作量證明\"挖掘新區塊\n",
        "  def mine_block(self, miner):\n",
        "    start = time.process_time() #紀錄挖掘前時間\n",
        "\n",
        "    #產生新區塊\n",
        "    last_block = self.chain[-1] #選取鏈中最後一區塊\n",
        "    new_block = Block(last_block.hash, self.difficulty, miner, self.miner_rewards) #設定新區塊參數\n",
        "    self.add_transaction_to_block(new_block) #加入交易明細至新區塊\n",
        "    new_block.previous_hash = last_block.hash\n",
        "    new_block.difficulty = self.difficulty\n",
        "    new_block.hash = self.get_hash(new_block, new_block.nonce) #產生加入交易明細後的新雜湊值\n",
        "\n",
        "    #透過改變nonce值得到新雜湊值，如符合難度定義\"開頭有幾個0\"則為合格的雜湊值與nonce值\n",
        "    while new_block.hash[0: self.difficulty] != '0' * self.difficulty:\n",
        "      new_block.nonce += 1\n",
        "      new_block.hash = self.get_hash(new_block, new_block.nonce)\n",
        "    \n",
        "    #計算並得出區塊挖掘時間花費\n",
        "    time_consumed = round(time.process_time() - start, 5)\n",
        "    print(f\"Hash found: {new_block.hash} @ difficulty {self.difficulty}, time cost: {time_consumed}s\") #顯示新區塊狀態提示\n",
        "\n",
        "    #將所挖掘的新區塊加入鏈中\n",
        "    self.chain.append(new_block)"
      ],
      "metadata": {
        "id": "_TeKdtIW-Fbs"
      },
      "execution_count": 30,
      "outputs": []
    }
  ]
}