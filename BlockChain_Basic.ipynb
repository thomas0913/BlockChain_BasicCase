{
  "nbformat": 4,
  "nbformat_minor": 0,
  "metadata": {
    "colab": {
      "name": "BlockChain_Basic.ipynb",
      "provenance": [],
      "collapsed_sections": [],
      "authorship_tag": "ABX9TyOmLqt1mZc8lkGOx3Gf9U59",
      "include_colab_link": true
    },
    "kernelspec": {
      "name": "python3",
      "display_name": "Python 3"
    },
    "language_info": {
      "name": "python"
    }
  },
  "cells": [
    {
      "cell_type": "markdown",
      "metadata": {
        "id": "view-in-github",
        "colab_type": "text"
      },
      "source": [
        "<a href=\"https://colab.research.google.com/github/thomas0913/BlockChain_BasicCase/blob/main/BlockChain_Basic.ipynb\" target=\"_parent\"><img src=\"https://colab.research.google.com/assets/colab-badge.svg\" alt=\"Open In Colab\"/></a>"
      ]
    },
    {
      "cell_type": "markdown",
      "source": [
        "# 定義區塊鏈格式與架構"
      ],
      "metadata": {
        "id": "4CINohN9AFIb"
      }
    },
    {
      "cell_type": "markdown",
      "source": [
        "*   交易格式"
      ],
      "metadata": {
        "id": "1XVwx8qL-4mn"
      }
    },
    {
      "cell_type": "code",
      "execution_count": 10,
      "metadata": {
        "id": "Sbs2kVx25vLm"
      },
      "outputs": [],
      "source": [
        "class Transaction: #交易定義\n",
        "  def __init__(self,sender,receiver,amounts,fee,message): \n",
        "    self.sender = sender    #發送者，同時check帳戶餘額是否足夠\n",
        "    self.receiver = receiver  #接收者，通常直接收款\n",
        "    self.amounts = amounts   #金額數\n",
        "    self.fee = fee       #手續費\n",
        "    self.message = message   #註記，generally for receiver"
      ]
    },
    {
      "cell_type": "markdown",
      "source": [
        "*   區塊格式\n",
        "\n"
      ],
      "metadata": {
        "id": "8JLpMljgAVwZ"
      }
    },
    {
      "cell_type": "code",
      "source": [
        "class Block: #區塊定義\n",
        "  def __init__(self,previous_hash,difficulty,miner,miner_rewards):\n",
        "    self.previous_hash = previous_hash  #前一區塊之雜湊值，為了加密\n",
        "    self.hash = ''            #當前區塊雜湊值，目前區塊計算後之雜湊值\n",
        "    self.difficulty = difficulty     #當前難度\n",
        "    self.nonce = 0            #能解開上個區塊鎖的鑰匙\n",
        "    self.timestamp = int(time.time())   #區塊產生時之時間戳，調整挖礦難度時會用到\n",
        "    self.transactions = []        #交易紀錄(for all)\n",
        "    self.miner = miner          #挖掘礦工(誰挖的)\n",
        "    self.miner_rewards = miner_rewards  #礦工獎勵，區塊產出時分給礦工的獎勵"
      ],
      "metadata": {
        "id": "48KtPYXyAkJb"
      },
      "execution_count": 11,
      "outputs": []
    },
    {
      "cell_type": "markdown",
      "source": [
        "\n",
        "*   區塊鏈架構\n",
        "\n",
        "\n",
        "\n"
      ],
      "metadata": {
        "id": "KYA0-BbLYrXh"
      }
    },
    {
      "cell_type": "code",
      "source": [
        "class BlockChain: #區塊鏈定義\n",
        "  def __init__(self):\n",
        "    self.adjust_difficulty_blocks = 10 #難度調節區塊數，每多少區塊調節一次\n",
        "    self.difficulty = 1        #當前難度\n",
        "    self.block_time = 30        #出塊時間，理想上多久能夠產出一個區塊\n",
        "    self.mining_rewards = 10      #挖礦獎勵，獎勵挖礦者的金額多寡\n",
        "    self.block_limitation = 32     #區塊容量，每一區塊能夠容納的交易上限\n",
        "    self.chain = []           #區塊鏈，目前鏈中儲存的所有區塊\n",
        "    self.pending_transactions = []   #等待中的交易(因區塊鏈能吞吐的交易量有限)"
      ],
      "metadata": {
        "id": "RTWQoDvrYxT5"
      },
      "execution_count": 12,
      "outputs": []
    }
  ]
}